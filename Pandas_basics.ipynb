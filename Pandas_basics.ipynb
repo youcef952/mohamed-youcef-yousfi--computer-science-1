{
  "nbformat": 4,
  "nbformat_minor": 0,
  "metadata": {
    "colab": {
      "provenance": []
    },
    "kernelspec": {
      "name": "python3",
      "display_name": "Python 3"
    },
    "language_info": {
      "name": "python"
    }
  },
  "cells": [
    {
      "cell_type": "code",
      "execution_count": null,
      "metadata": {
        "id": "C5prVjHlhZRy"
      },
      "outputs": [],
      "source": [
        "# 1. Import Pandas library\n",
        "import pandas as pd  # Pandas is a powerful data manipulation library\n",
        "\n",
        "# 2. Create a DataFrame with the provided data\n",
        "data = {\n",
        "    'Name': ['John', 'Alice', 'Bob', 'Charlie', 'David'],\n",
        "    'Age': [23, 30, 25, 35, 28],\n",
        "    'City': ['New York', 'Los Angeles', 'Chicago', 'San Francisco', 'New York'],\n",
        "    'Salary': [50000, 70000, 45000, 80000, 55000]\n",
        "}\n",
        "\n",
        "# Convert the dictionary into a DataFrame (tabular structure)\n",
        "df = pd.DataFrame(data)\n",
        "\n",
        "# 3. Print the DataFrame to confirm creation\n",
        "print(\"Full DataFrame:\")\n",
        "print(df)\n",
        "\n",
        "# 4a. Display the \"Name\" and \"Salary\" columns only\n",
        "print(\"\\nName and Salary columns:\")\n",
        "print(df[['Name', 'Salary']])\n",
        "\n",
        "# 4b. Show the first 3 rows of the DataFrame\n",
        "print(\"\\nFirst 3 rows:\")\n",
        "print(df.head(3))  # head(n) returns the first n rows\n",
        "\n",
        "# 4c. Find the average salary\n",
        "average_salary = df['Salary'].mean()  # mean() calculates average\n",
        "print(f\"\\nAverage Salary: ${average_salary:.2f}\")\n",
        "\n",
        "# 4d. Filter and display rows where Age >= 30\n",
        "print(\"\\nPeople aged 30 and above:\")\n",
        "print(df[df['Age'] >= 30])  # Boolean indexing\n",
        "\n",
        "# 5a. Sort by Salary in descending order\n",
        "print(\"\\nSorted by Salary (Descending):\")\n",
        "print(df.sort_values(by='Salary', ascending=False))\n",
        "\n",
        "# 5b. Sort by City then Age (both ascending)\n",
        "print(\"\\nSorted by City and Age:\")\n",
        "print(df.sort_values(by=['City', 'Age']))\n",
        "\n",
        "# 6. Introduce missing values\n",
        "df.loc[2, 'Salary'] = None      # Set Bob's Salary to NaN\n",
        "df.loc[4, 'City'] = None        # Set David's City to NaN\n",
        "\n",
        "# 6a. Display DataFrame with missing values\n",
        "print(\"\\nDataFrame with missing values:\")\n",
        "print(df)\n",
        "\n",
        "# 6b. Fill missing Salary with the average of existing salaries\n",
        "avg_salary = df['Salary'].mean()  # Calculate average salary ignoring NaNs\n",
        "df['Salary'].fillna(avg_salary, inplace=True)  # Replace NaNs with average\n",
        "\n",
        "# 6c. Fill missing City values with \"Unknown\"\n",
        "df['City'].fillna('Unknown', inplace=True)\n",
        "\n",
        "# Display DataFrame after filling missing values\n",
        "print(\"\\nAfter filling missing values:\")\n",
        "print(df)\n",
        "\n",
        "# 6d. Drop rows with any remaining missing values (none should exist now)\n",
        "df_cleaned = df.dropna()\n",
        "\n",
        "# Show cleaned DataFrame\n",
        "print(\"\\nCleaned DataFrame (no missing values):\")\n",
        "print(df_cleaned)\n",
        "\n",
        "# 7. Save the cleaned DataFrame to a CSV file\n",
        "df_cleaned.to_csv('Cl\n"
      ]
    }
  ]
}