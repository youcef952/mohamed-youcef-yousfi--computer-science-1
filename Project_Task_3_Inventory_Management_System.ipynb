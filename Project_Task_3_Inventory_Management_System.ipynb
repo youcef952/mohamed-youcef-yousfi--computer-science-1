{
  "nbformat": 4,
  "nbformat_minor": 0,
  "metadata": {
    "colab": {
      "provenance": []
    },
    "kernelspec": {
      "name": "python3",
      "display_name": "Python 3"
    },
    "language_info": {
      "name": "python"
    }
  },
  "cells": [
    {
      "cell_type": "code",
      "execution_count": 1,
      "metadata": {
        "colab": {
          "base_uri": "https://localhost:8080/"
        },
        "id": "ZagHAhEXCA6W",
        "outputId": "9ddba37a-4f78-41f0-d728-2d8bb38405b0"
      },
      "outputs": [
        {
          "output_type": "stream",
          "name": "stdout",
          "text": [
            "✅ Stock database is ready.\n"
          ]
        }
      ],
      "source": [
        "# Inventory Control System – Developed by Youcef Yousfi\n",
        "# Step 1: Create SQLite database and stock_items table\n",
        "\n",
        "import sqlite3\n",
        "\n",
        "# Connect to (or create) the database file\n",
        "conn = sqlite3.connect(\"stock_data.db\")\n",
        "c = conn.cursor()\n",
        "\n",
        "# Create the table if it doesn't exist\n",
        "c.execute(\"\"\"\n",
        "CREATE TABLE IF NOT EXISTS stock_items (\n",
        "    id TEXT PRIMARY KEY,\n",
        "    item_name TEXT,\n",
        "    item_type TEXT,\n",
        "    cost REAL,\n",
        "    amount INTEGER\n",
        ")\n",
        "\"\"\")\n",
        "\n",
        "conn.commit()\n",
        "conn.close()\n",
        "\n",
        "print(\"✅ Stock database is ready.\")\n"
      ]
    },
    {
      "cell_type": "code",
      "source": [
        "# Step 2: Function to display system options to the user\n",
        "\n",
        "def options_menu():\n",
        "    print(\"\\n📋 Stock Management Menu\")\n",
        "    print(\"1. Register Product\")\n",
        "    print(\"2. Locate Product\")\n",
        "    print(\"3. Adjust Quantity\")\n",
        "    print(\"4. List All Products\")\n",
        "    print(\"5. Exit\")\n",
        "    return input(\"Select a task (1-5): \")\n"
      ],
      "metadata": {
        "id": "J3CLF8EsCo9F"
      },
      "execution_count": 2,
      "outputs": []
    },
    {
      "cell_type": "code",
      "source": [
        "# Step 3: Function to add a new product to inventory\n",
        "\n",
        "def register_product():\n",
        "    code = input(\"Enter Unique Product Code: \")\n",
        "    label = input(\"Enter Item Name: \")\n",
        "    typ = input(\"Enter Category/Type: \")\n",
        "\n",
        "    try:\n",
        "        price = float(input(\"Enter Unit Cost: \"))\n",
        "        qty = int(input(\"Enter Available Quantity: \"))\n",
        "    except:\n",
        "        print(\"⚠️ Please input valid numbers.\")\n",
        "        return\n",
        "\n",
        "    connection = sqlite3.connect(\"stock_data.db\")\n",
        "    cur = connection.cursor()\n",
        "    try:\n",
        "        cur.execute(\"INSERT INTO stock_items VALUES (?, ?, ?, ?, ?)\", (code, label, typ, price, qty))\n",
        "        connection.commit()\n",
        "        print(\"✅ Product added to system.\")\n",
        "    except sqlite3.IntegrityError:\n",
        "        print(\"❌ Duplicate Product Code. Try another.\")\n",
        "    connection.close()\n"
      ],
      "metadata": {
        "id": "4fc5cz-jCtgu"
      },
      "execution_count": 3,
      "outputs": []
    },
    {
      "cell_type": "code",
      "source": [
        "# Step 4: Function to find a product by ID or name keyword\n",
        "\n",
        "def locate_product():\n",
        "    term = input(\"🔍 Enter Product Code or Name: \")\n",
        "\n",
        "    db = sqlite3.connect(\"stock_data.db\")\n",
        "    cr = db.cursor()\n",
        "\n",
        "    cr.execute(\"SELECT * FROM stock_items WHERE id = ? OR item_name LIKE ?\", (term, f\"%{term}%\"))\n",
        "    output = cr.fetchall()\n",
        "    db.close()\n",
        "\n",
        "    if output:\n",
        "        print(\"\\n📦 Matching Items Found:\")\n",
        "        for item in output:\n",
        "            print(f\"Code: {item[0]}, Name: {item[1]}, Type: {item[2]}, Cost: {item[3]}, Qty: {item[4]}\")\n",
        "    else:\n",
        "        print(\"❌ No matching product found.\")\n"
      ],
      "metadata": {
        "id": "4XhO2zRwCxlH"
      },
      "execution_count": 4,
      "outputs": []
    },
    {
      "cell_type": "code",
      "source": [
        "# Step 5: Function to update product quantity\n",
        "\n",
        "def adjust_stock():\n",
        "    item_code = input(\"🛠️ Enter Product Code: \")\n",
        "\n",
        "    try:\n",
        "        change = int(input(\"Enter Quantity Change (+/-): \"))\n",
        "    except:\n",
        "        print(\"⚠️ Invalid input.\")\n",
        "        return\n",
        "\n",
        "    db = sqlite3.connect(\"stock_data.db\")\n",
        "    cr = db.cursor()\n",
        "\n",
        "    cr.execute(\"SELECT amount FROM stock_items WHERE id = ?\", (item_code,))\n",
        "    found = cr.fetchone()\n",
        "\n",
        "    if found:\n",
        "        updated = found[0] + change\n",
        "        if updated < 0:\n",
        "            print(\"❌ Not enough items in stock.\")\n",
        "        else:\n",
        "            cr.execute(\"UPDATE stock_items SET amount = ? WHERE id = ?\", (updated, item_code))\n",
        "            db.commit()\n",
        "            print(f\"✅ Stock updated. New Quantity: {updated}\")\n",
        "    else:\n",
        "        print(\"❌ Product not found.\")\n",
        "    db.close()\n"
      ],
      "metadata": {
        "id": "XsoAkptXDDi-"
      },
      "execution_count": 5,
      "outputs": []
    },
    {
      "cell_type": "code",
      "source": [
        "# Step 6: Function to display all registered products\n",
        "\n",
        "def display_all_items():\n",
        "    db = sqlite3.connect(\"stock_data.db\")\n",
        "    cr = db.cursor()\n",
        "\n",
        "    cr.execute(\"SELECT * FROM stock_items\")\n",
        "    records = cr.fetchall()\n",
        "    db.close()\n",
        "\n",
        "    if records:\n",
        "        print(\"\\n📦 Current Inventory:\")\n",
        "        for r in records:\n",
        "            print(f\"Code: {r[0]}, Name: {r[1]}, Type: {r[2]}, Cost: {r[3]}, Qty: {r[4]}\")\n",
        "    else:\n",
        "        print(\"📭 No items registered.\")\n"
      ],
      "metadata": {
        "id": "CdYuJQDhDG7t"
      },
      "execution_count": 6,
      "outputs": []
    },
    {
      "cell_type": "code",
      "source": [
        "# Step 7: Continuous loop for program operation\n",
        "\n",
        "while True:\n",
        "    user_choice = options_menu()\n",
        "\n",
        "    if user_choice == \"1\":\n",
        "        register_product()\n",
        "    elif user_choice == \"2\":\n",
        "        locate_product()\n",
        "    elif user_choice == \"3\":\n",
        "        adjust_stock()\n",
        "    elif user_choice == \"4\":\n",
        "        display_all_items()\n",
        "    elif user_choice == \"5\":\n",
        "        print(\"👋 Thank you. System closed.\")\n",
        "        break\n",
        "    else:\n",
        "        print(\"⚠️ Please choose a valid option from the menu.\")\n"
      ],
      "metadata": {
        "colab": {
          "base_uri": "https://localhost:8080/"
        },
        "id": "bKBvyBHADRZ2",
        "outputId": "df3453db-86ce-409c-a204-109b72e553e7"
      },
      "execution_count": null,
      "outputs": [
        {
          "output_type": "stream",
          "name": "stdout",
          "text": [
            "\n",
            "📋 Stock Management Menu\n",
            "1. Register Product\n",
            "2. Locate Product\n",
            "3. Adjust Quantity\n",
            "4. List All Products\n",
            "5. Exit\n"
          ]
        }
      ]
    }
  ]
}