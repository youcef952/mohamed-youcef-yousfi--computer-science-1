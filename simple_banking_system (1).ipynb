{
  "nbformat": 4,
  "nbformat_minor": 0,
  "metadata": {
    "colab": {
      "provenance": []
    },
    "kernelspec": {
      "name": "python3",
      "display_name": "Python 3"
    },
    "language_info": {
      "name": "python"
    }
  },
  "cells": [
    {
      "cell_type": "code",
      "execution_count": null,
      "metadata": {
        "id": "E0PEY5D3QbtT"
      },
      "outputs": [],
      "source": [
        "# Youcef's Bank - Simple Banking System\n",
        "\n",
        "# Dummy credentials (in a real system, you would use a database)\n",
        "username = \"user1\"\n",
        "password = \"password123\"\n",
        "\n",
        "# Initial account balance\n",
        "balance = 1000.00\n",
        "\n",
        "# Function for user login\n",
        "def user_login():\n",
        "    # Allow up to 3 login attempts\n",
        "    attempts = 0\n",
        "    while attempts < 3:\n",
        "        # Prompt user for username and password\n",
        "        entered_username = input(\"Enter username: \")\n",
        "        entered_password = input(\"Enter password: \")\n",
        "\n",
        "        # Check if the entered username and password match the stored ones\n",
        "        if entered_username == username and entered_password == password:\n",
        "            # Successful login message\n",
        "            print(\"Login successful! Welcome to Youcef's Bank!\")\n",
        "            return True  # Return True to indicate successful login\n",
        "        else:\n",
        "            # If login fails, increment the attempts counter\n",
        "            attempts += 1\n",
        "            print(f\"Incorrect username or password. Attempt {attempts} of 3.\")\n",
        "\n",
        "    # If user exceeds 3 login attempts, exit the system\n",
        "    print(\"Too many failed login attempts. Exiting system.\")\n",
        "    return False  # Return False to indicate failed login\n",
        "\n",
        "# Function to display the main menu and handle user choices\n",
        "def main_menu():\n",
        "    global balance  # Use the global balance variable\n",
        "\n",
        "    while True:\n",
        "        # Display the main menu options\n",
        "        print(\"\\nYoucef's Bank - Main Menu:\")\n",
        "        print(\"1. Check balance\")\n",
        "        print(\"2. Deposit money\")\n",
        "        print(\"3. Withdraw money\")\n",
        "        print(\"4. Exit the system\")\n",
        "\n",
        "        try:\n",
        "            # Ask user to choose an option\n",
        "            choice = int(input(\"Please choose an option (1-4): \"))\n",
        "\n",
        "            # Option 1: Check balance\n",
        "            if choice == 1:\n",
        "                print(f\"Your current balance is: ${balance:.2f}\")\n",
        "\n",
        "            # Option 2: Deposit money\n",
        "            elif choice == 2:\n",
        "                # Ask user for deposit amount\n",
        "                deposit_amount = float(input(\"Enter amount to deposit: \"))\n",
        "\n",
        "                # Check if deposit amount is p\n"
      ]
    }
  ]
}